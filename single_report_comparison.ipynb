{
  "cells": [
    {
      "cell_type": "code",
      "execution_count": 2,
      "metadata": {
        "colab": {
          "base_uri": "https://localhost:8080/",
          "height": 466
        },
        "id": "-ZAaUSXRlaFm",
        "outputId": "919db7d1-605a-4240-a7a6-785b070718e5"
      },
      "outputs": [],
      "source": [
        "import openai\n",
        "import json\n",
        "import os\n",
        "import re\n",
        "import pandas as pd\n",
        "from datetime import datetime\n",
        "from typing import List, Dict, Any, Tuple\n",
        "from langchain_community.document_loaders import PyPDFLoader\n",
        "from sklearn.metrics.pairwise import cosine_similarity\n",
        "import numpy as np\n",
        "import time"
      ]
    },
    {
      "cell_type": "code",
      "execution_count": 3,
      "metadata": {},
      "outputs": [
        {
          "data": {
            "text/html": [
              "<div>\n",
              "<style scoped>\n",
              "    .dataframe tbody tr th:only-of-type {\n",
              "        vertical-align: middle;\n",
              "    }\n",
              "\n",
              "    .dataframe tbody tr th {\n",
              "        vertical-align: top;\n",
              "    }\n",
              "\n",
              "    .dataframe thead th {\n",
              "        text-align: right;\n",
              "    }\n",
              "</style>\n",
              "<table border=\"1\" class=\"dataframe\">\n",
              "  <thead>\n",
              "    <tr style=\"text-align: right;\">\n",
              "      <th></th>\n",
              "      <th>Patient Counter</th>\n",
              "      <th>Modality</th>\n",
              "      <th>Exam Description</th>\n",
              "      <th>ages</th>\n",
              "      <th>Findings</th>\n",
              "    </tr>\n",
              "  </thead>\n",
              "  <tbody>\n",
              "    <tr>\n",
              "      <th>0</th>\n",
              "      <td>21</td>\n",
              "      <td>MRI</td>\n",
              "      <td>MR ABDOMEN WITH AND WITHOUT CONTRAST</td>\n",
              "      <td>76</td>\n",
              "      <td>Liver:  Hepatic steatosis. Minimal nodular con...</td>\n",
              "    </tr>\n",
              "    <tr>\n",
              "      <th>1</th>\n",
              "      <td>22</td>\n",
              "      <td>CT</td>\n",
              "      <td>CT ABDOMEN WITH CONTRAST</td>\n",
              "      <td>68</td>\n",
              "      <td>Visualized lung bases:  Unremarkable Liver:  H...</td>\n",
              "    </tr>\n",
              "    <tr>\n",
              "      <th>2</th>\n",
              "      <td>23</td>\n",
              "      <td>MRI</td>\n",
              "      <td>MR MRCP WITH AND WITHOUT CONTRAST</td>\n",
              "      <td>71</td>\n",
              "      <td>Liver:  Unremarkable Gallbladder:  Surgically ...</td>\n",
              "    </tr>\n",
              "    <tr>\n",
              "      <th>3</th>\n",
              "      <td>24</td>\n",
              "      <td>MRI</td>\n",
              "      <td>MR ABDOMEN WITH AND WITHOUT CONTRAST</td>\n",
              "      <td>66</td>\n",
              "      <td>Liver:  Cirrhotic liver morphology. Untreated ...</td>\n",
              "    </tr>\n",
              "    <tr>\n",
              "      <th>4</th>\n",
              "      <td>25</td>\n",
              "      <td>CT</td>\n",
              "      <td>CT ABDOMEN/PELVIS WITH CONTRAST</td>\n",
              "      <td>89</td>\n",
              "      <td>Visualized lung bases:  Bibasilar atelectasis ...</td>\n",
              "    </tr>\n",
              "  </tbody>\n",
              "</table>\n",
              "</div>"
            ],
            "text/plain": [
              "   Patient Counter Modality                      Exam Description  ages  \\\n",
              "0               21      MRI  MR ABDOMEN WITH AND WITHOUT CONTRAST    76   \n",
              "1               22       CT              CT ABDOMEN WITH CONTRAST    68   \n",
              "2               23      MRI     MR MRCP WITH AND WITHOUT CONTRAST    71   \n",
              "3               24      MRI  MR ABDOMEN WITH AND WITHOUT CONTRAST    66   \n",
              "4               25       CT       CT ABDOMEN/PELVIS WITH CONTRAST    89   \n",
              "\n",
              "                                            Findings  \n",
              "0  Liver:  Hepatic steatosis. Minimal nodular con...  \n",
              "1  Visualized lung bases:  Unremarkable Liver:  H...  \n",
              "2  Liver:  Unremarkable Gallbladder:  Surgically ...  \n",
              "3  Liver:  Cirrhotic liver morphology. Untreated ...  \n",
              "4  Visualized lung bases:  Bibasilar atelectasis ...  "
            ]
          },
          "execution_count": 3,
          "metadata": {},
          "output_type": "execute_result"
        }
      ],
      "source": [
        "df = pd.read_csv('data/report_findings.csv')\n",
        "df = df[['Patient Counter', 'Modality', 'Exam Description', 'ages', 'Findings']]\n",
        "df.head()"
      ]
    },
    {
      "cell_type": "code",
      "execution_count": 15,
      "metadata": {
        "id": "rvr-ljG2lqAd"
      },
      "outputs": [],
      "source": [
        "# Option 1: Pure GPT-4O response\n",
        "# Option 2: With PDF RAG\n",
        "# Option 3: With Flowchart embedding\n",
        "# Option 4: Flowchart RAG\n",
        "option_1, option_2, option_3, option_4 = True, True, True, False"
      ]
    },
    {
      "cell_type": "code",
      "execution_count": 4,
      "metadata": {
        "id": "e4AiQ_IhmN6j"
      },
      "outputs": [
        {
          "name": "stdout",
          "output_type": "stream",
          "text": [
            "---> work on versa!\n",
            "---> text-embedding-3-small-1 gpt-4o-2024-05-13\n"
          ]
        }
      ],
      "source": [
        "from openai import AzureOpenAI\n",
        "\n",
        "client = None\n",
        "azure_client = True\n",
        "\n",
        "if azure_client:\n",
        "  client = AzureOpenAI(\n",
        "      api_key='', # your Azure OpenAI API key\n",
        "      api_version='2024-02-01',\n",
        "      azure_endpoint='https://unified-api.ucsf.edu/general',\n",
        "  )\n",
        "  EMBEDDING_MODEL = ['text-embedding-3-small-1', 'text-embedding-3-large-1', 'text-embedding-ada-002'][0]\n",
        "  MODEL = ['gpt-35-turbo', 'gpt-35-turbo-0301', 'gpt-4', 'gpt-35-turbo-16K', 'gpt-4-32K', 'gpt-4-turbo-128k', 'gpt-4o-2024-05-13'][-1]\n",
        "  print(\"---> work on versa!\")\n",
        "else:\n",
        "  client = openai.Client(api_key='') # your OpenAI API key\n",
        "  EMBEDDING_MODEL = \"text-embedding-3-small\"\n",
        "  MODEL = \"gpt-4o\"\n",
        "  print(\"---> work on openai!\")\n",
        "\n",
        "print(\"--->\", EMBEDDING_MODEL, MODEL)"
      ]
    },
    {
      "cell_type": "markdown",
      "metadata": {},
      "source": [
        "## Archived: Test code for Flowchart RAG, not for this study"
      ]
    },
    {
      "cell_type": "code",
      "execution_count": 32,
      "metadata": {},
      "outputs": [],
      "source": [
        "from langchain_community.document_loaders import JSONLoader\n",
        "from langchain_community.vectorstores import Chroma\n",
        "from langchain_openai import AzureOpenAIEmbeddings\n",
        "import json\n",
        "import shutil\n",
        "import os\n",
        "\n",
        "CHROMA_PATH = \"chroma\"\n",
        "\n",
        "embedding_function = AzureOpenAIEmbeddings(\n",
        "    model = 'text-embedding-3-small-1',\n",
        "    api_key='',\n",
        "    openai_api_version='2024-02-01',\n",
        "    azure_endpoint='https://unified-api.ucsf.edu/general',\n",
        ")"
      ]
    },
    {
      "cell_type": "code",
      "execution_count": 1,
      "metadata": {},
      "outputs": [
        {
          "name": "stdout",
          "output_type": "stream",
          "text": [
            "Save to chroma.\n"
          ]
        }
      ],
      "source": [
        "loader = JSONLoader(file_path=\"data2-3-table_included.json\", jq_schema=\".[]\", text_content=False)\n",
        "documents = loader.load()\n",
        "\n",
        "if os.path.exists(CHROMA_PATH):\n",
        "    shutil.rmtree(CHROMA_PATH)\n",
        "db = Chroma.from_documents(documents, embedding_function, persist_directory=CHROMA_PATH)\n",
        "print(f\"Save to {CHROMA_PATH}.\")\n"
      ]
    },
    {
      "cell_type": "code",
      "execution_count": 33,
      "metadata": {},
      "outputs": [],
      "source": [
        "def query_flowchart_rag(query, top_n=4):\n",
        "    context = []\n",
        "    db = Chroma(persist_directory=CHROMA_PATH, embedding_function=embedding_function)\n",
        "    \n",
        "    docs_and_scores = db.similarity_search_with_score(query)\n",
        "    sorted_docs = sorted(docs_and_scores, key=lambda x: x[1], reverse=True)\n",
        "    top_n_docs = sorted_docs[:top_n]\n",
        "    for doc, score in top_n_docs:\n",
        "        context.append(json.loads(doc.page_content))\n",
        "    return context"
      ]
    },
    {
      "cell_type": "code",
      "execution_count": 12,
      "metadata": {},
      "outputs": [
        {
          "name": "stdout",
          "output_type": "stream",
          "text": [
            "0.4999521080739323\n",
            "0.49671225212563813\n",
            "{'paper': 'Management of Incidental Pancreatic Cysts: A White Paper of the ACR Incidental Findings Committee', 'type': 'Fig', 'location': 'Fig 1', 'year': 2017, 'title': 'Flowchart (Chart 1) specifying the management of incidental pancreatic cysts <1.5 cm. EUS ¼ endoscopic ultrasound; FNA ¼ ﬁne needle aspiration; MPD ¼ main pancreatic duct.', 'description': '< 65 years at presentation\\n\\n<1.5 cm Incidental pancreatic cyst\\n\\n- Reimage every 1 year for 5 times¹,²,⁸\\n  - Stable over initial 5 years¹\\n    - Reimage every 2 years for 2 times¹,²,⁸\\n      - STOP if stable over MINIMUM 9 years⁵\\n  - Interval growth³**\\n    - Cyst is still <1.5 cm⁴\\n      - Reimage every 1 year or EUS / FNA²,³,⁴,⁸\\n        - STOP if cyst <1.5 cm over MINIMUM 10 years⁵\\n    - Cyst is ≥1.5 cm⁴\\n      - Move to Figure 2 or EUS / FNA⁴**\\n\\n65-79 years at presentation\\n\\n<1.5 cm Incidental pancreatic cyst\\n\\n- Reimage every 2 years for 5 times¹,²,⁸\\n  - STOP if stable over 10 years⁶\\n  - Interval growth³**\\n    - Cyst is still <1.5 cm⁴\\n      - Reimage every one year or EUS / FNA²,³,⁴,⁸\\n        - STOP if cyst <1.5 cm over 10 years⁶\\n    - Cyst is ≥1.5 cm⁴\\n      - Move to Figure 2 or EUS / FNA⁴**\\n\\nLegend:\\n1. While single follow-up of tiny \"white dot\" lesions at 2 years is appropriate, the need for further follow-up and length of follow-up, if stable, is unknown. Some radiologists do not report these lesions for patients with advanced age (>75-80 years of age).\\n2. Imaging follow-up with contrast-enhanced MRI or pancreas protocol CT.\\n3. Growth defined as 100% increase in longest axis diameter (on axial or coronal image) for cysts <5mm, and 50% increase for cysts ≥5mm and <15mm. No growth = stable.\\n4. Following growth, imaging follow-up or EUS/FNA may be performed. In general, EUS/FNA merits stronger consideration for larger or faster-growing cysts relative to smaller or slower-growing cysts. After EUS/FNA, further work-up is result-dependent (see Figure 2B).\\n5. Some may choose to continuously follow cysts detected in patients <65-years-old until those patients reach 80.\\n6. If the patient reaches 80 years before the end of follow-up, follow-up should generally stop. If the patient is close to - but not yet - 80 years when the cyst is first detected, then when the patient reaches 80 years, Figure 4 can be used to guide further management.\\n7. *Appearance of any mural nodule, wall thickening, dilation of MPD ≥7mm, or extrahepatic biliary obstruction/jaundice should prompt immediate EUS/FNA and surgical evaluation regardless of size or amount of growth.\\n8. **Appearance of any mural nodule, wall thickening, dilation of MPD ≥7mm, or extrahepatic biliary obstruction/jaundice should prompt immediate EUS/FNA and surgical evaluation regardless of size or amount of growth.\\n\\nFig 1. Flowchart (Chart 1) specifying the management of incidental pancreatic cysts <1.5 cm. EUS = endoscopic ultrasound; FNA = fine needle aspiration; MPD = main pancreatic duct.'}\n",
            "{'paper': 'Management of Incidental Pancreatic Cysts: A White Paper of the ACR Incidental Findings Committee', 'type': 'Fig', 'location': 'Fig 3', 'year': 2017, 'title': 'Fig 3. Flowchart (Chart 3) specifying the management of incidental pancreatic cysts >2.5 cm. EUS ¼ endoscopic ultrasound; FNA ¼ ﬁne needle aspiration; MPD ¼ main pancreatic duct; SCA ¼ serous cystadenoma.', 'description': '>2.5 cm Incidental pancreatic cyst¹\\n\\n- SCA²\\n\\n- Low Risk by Imaging³\\n  - Reimage every 6 months for 4 times, ⁵, ⁶**\\n    - Stable over initial 2 years\\n      - Reimage every 1 year for 2 times, then every 2 years for 3 times, ⁵, ⁶**\\n        - STOP if stable over 10 years⁷\\n    - Interval growth⁶**\\n      - EUS/FNA + Surgical consultation\\n\\n- High Risk by Imaging⁴\\n  - EUS/FNA + Surgical consultation\\n\\nLegend:\\n1. Immediate EUS/FNA performed in many centers for all cysts of this size.\\n2. For SCA >4 cm, surgical consultation for consideration of resection is advised.\\n3. Low-risk features: no mural nodule, no wall thickening, normal caliber MPD, no peripheral Ca++. If surgery is contemplated for low-risk cysts, EUS/FNA is strongly advised before the procedure.\\n4. High-risk features: mural nodules, wall thickening, MPD ≥7 mm maximal diameter, peripheral Ca++. All patients with \"high risk stigmata\" (extrahepatic biliary obstruction/jaundice, enhancing mural nodule, MPD ≥10 mm) at time of cyst detection should undergo immediate clinical evaluation for surgery.\\n5. Imaging follow-up with contrast-enhanced MRI or pancreas protocol CT.\\n6. Growth defined as 20% increase in longest axis diameter, as depicted on either axial or coronal image. No growth = stable.\\n7. If the patient reaches 80 years before the end of follow-up, follow-up should generally stop. If the patient is close to - but not yet - 80 years when the cyst is first detected, then when the patient reaches 80 years, Figure 4 can be used to guide further management.\\n8. *Appearance of any mural nodule, wall thickening, dilation of MPD ≥7 mm, or extrahepatic biliary obstruction/jaundice should prompt immediate EUS/FNA and surgical evaluation regardless of size or amount of growth.\\n\\nFig 3. Flowchart (Chart 3) specifying the management of incidental pancreatic cysts >2.5 cm. EUS = endoscopic ultrasound; FNA = fine needle aspiration; MPD = main pancreatic duct; SCA = serous cystadenoma.'}\n"
          ]
        }
      ],
      "source": [
        "age = 81\n",
        "summary = '**Condition of the Largest Pancreatic Cyst:**- Size: 1.4 cm- Position: Pancreatic body- MPD Communication: None - High-risk features/stigmata: None'\n",
        "query = f'Given the patient age {age} at the presentation of incidentalomas with the findings from radiology report: {summary}.  Generate the most important follow-up recommendation for the largest incidental pancreatic cyst.'\n",
        "res = query_flowchart_rag(query)"
      ]
    },
    {
      "cell_type": "markdown",
      "metadata": {},
      "source": [
        "## Guideline RAG Prep"
      ]
    },
    {
      "cell_type": "code",
      "execution_count": 5,
      "metadata": {
        "id": "QEcoSNIdnlLL"
      },
      "outputs": [],
      "source": [
        "# PDF RAG\n",
        "CHUNK_SIZE = 2500\n",
        "JSON_FILE_PATH = \"utils/embeddings_pancreatic.json\"\n",
        "\n",
        "def load_json(file_path: str) -> Dict[str, Any]:\n",
        "    if os.path.exists(file_path):\n",
        "        with open(file_path, 'r') as f:\n",
        "            return json.load(f)\n",
        "    return {}\n",
        "\n",
        "def save_json(data: Dict[str, Any], file_path: str) -> None:\n",
        "    with open(file_path, 'w') as f:\n",
        "        json.dump(data, f, indent=4)\n",
        "\n",
        "def normalize_text(text: str) -> str:\n",
        "    text = text.lower()\n",
        "    text = re.sub(r'\\s+', ' ', text)  # Replace multiple spaces with a single space\n",
        "    text = re.sub(r'[^\\w\\s]', '', text)  # Remove punctuation\n",
        "    return text.strip()\n",
        "\n",
        "def get_text_chunks(text: str, chunk_size: int) -> List[str]:\n",
        "    step_size = 1500\n",
        "    return [text[i:i+chunk_size] for i in range(0, len(text), step_size)]\n",
        "\n",
        "def get_embedding(text: str, model=EMBEDDING_MODEL, **kwargs) -> List[float]:\n",
        "    # replace newlines, which can negatively affect performance.\n",
        "    text = text.replace(\"\\n\", \" \")\n",
        "\n",
        "    response = client.embeddings.create(input=[text], model=model, **kwargs)\n",
        "\n",
        "    return response.data[0].embedding\n",
        "\n",
        "def get_embeddings(text_chunks: List[str], model: str = EMBEDDING_MODEL) -> List[List[float]]:\n",
        "    embeddings = [get_embedding(normalize_text(chunk), model=model) for chunk in text_chunks]\n",
        "    return embeddings\n",
        "\n",
        "def extract_text_from_pdf(file_path: str) -> str:\n",
        "    loader = PyPDFLoader(file_path)\n",
        "    pages = loader.load_and_split()\n",
        "    text = \"\\n\".join([normalize_text(page.page_content) for page in pages])\n",
        "    return text\n",
        "\n",
        "def prepare_rag(file_paths: List[str]):\n",
        "    data = load_json(JSON_FILE_PATH)\n",
        "    if \"embedding_pairs\" not in data:\n",
        "        data[\"embedding_pairs\"] = {}\n",
        "\n",
        "    for file_path in file_paths:\n",
        "        file_name = os.path.basename(file_path)\n",
        "        if file_name in data.get(\"metadata\", {}):\n",
        "            print(f\"Embeddings for {file_name} already exist. Skipping.\")\n",
        "            continue\n",
        "\n",
        "        file_size = os.path.getsize(file_path)\n",
        "        text = extract_text_from_pdf(file_path)\n",
        "        chunks = get_text_chunks(text, CHUNK_SIZE)\n",
        "        embeddings = get_embeddings(chunks, model=EMBEDDING_MODEL)\n",
        "\n",
        "        for chunk, embedding in zip(chunks, embeddings):\n",
        "            data[\"embedding_pairs\"][chunk] = embedding\n",
        "\n",
        "        if \"metadata\" not in data:\n",
        "            data[\"metadata\"] = {}\n",
        "\n",
        "        data[\"metadata\"][file_name] = {\n",
        "            \"file_size\": file_size,\n",
        "            \"date\": datetime.now().isoformat(),\n",
        "        }\n",
        "\n",
        "    save_json(data, JSON_FILE_PATH)\n",
        "\n",
        "def query_rag(query: str) -> str:\n",
        "    data = load_json(JSON_FILE_PATH)\n",
        "    if \"embedding_pairs\" not in data:\n",
        "        return \"No embeddings found. Please prepare the RAG system first.\"\n",
        "\n",
        "    chunks = list(data[\"embedding_pairs\"].keys())\n",
        "    embeddings = list(data[\"embedding_pairs\"].values())\n",
        "\n",
        "    query_embedding = get_embeddings([query])[0]\n",
        "    similarities = cosine_similarity([query_embedding], embeddings)[0]\n",
        "    # Set a thersholding value\n",
        "    threshold = 0.5\n",
        "    filtered_indices = [i for i in range(len(similarities)) if similarities[i] >= threshold]\n",
        "\n",
        "    # Get the indices of the most similar chunks above the threshold\n",
        "    top_indices = sorted(filtered_indices, key=lambda i: similarities[i], reverse=True)[:5]\n",
        "\n",
        "    retrieved_chunks = [chunks[i] for i in top_indices]\n",
        "    context = \"\\n\".join(retrieved_chunks)\n",
        "\n",
        "    return context\n"
      ]
    },
    {
      "cell_type": "markdown",
      "metadata": {},
      "source": [
        "## Prompt"
      ]
    },
    {
      "cell_type": "code",
      "execution_count": null,
      "metadata": {},
      "outputs": [],
      "source": [
        "# Prepare the RAG system with the provided PDFs\n",
        "file_paths = ['Management of Incidental Pancreatic Cysts A White Paper of the ACR Incidental Findings Committee']\n",
        "prepare_rag(file_paths)"
      ]
    },
    {
      "cell_type": "code",
      "execution_count": 6,
      "metadata": {},
      "outputs": [
        {
          "name": "stdout",
          "output_type": "stream",
          "text": [
            "additional age + high risk + brief2\n"
          ]
        }
      ],
      "source": [
        "# Option 1 Helper Code + age + highrisk by imaging + concrete\n",
        "print(\"additional age + high risk + brief2\")\n",
        "\n",
        "def generate_prompt_simple(row):\n",
        "    # Extract the age and findings from the row\n",
        "    age, finding = int(row[\"ages\"]), row[\"Findings\"]\n",
        "\n",
        "    # Generate the main prompt for pancreatic cyst follow-up recommendation\n",
        "    prompt = (\n",
        "        f'Given the patient age {age} with the findings from the radiology report at the presentation of incidentalomas: {finding}. '\n",
        "        f'Generate the most important follow-up recommendation for pancreatic cysts based on the guideline paper: Management of Incidental Pancreatic Cysts: A White Paper of the ACR Incidental Findings Committee (https://doi.org/10.1016/j.jacr.2017.03.010). '\n",
        "        f'Here is some guidance for response: 1. Start with **Existence of Pancreatic Cyst:** ; Identify whether a pancreatic cyst exists/is visualized. If not, only respond: No pancreatic cyst is visualized. '\n",
        "        f'2. Start with **Condition of the Largest Pancreatic Cyst:** - Size: - Position: - MPD Communication: -  High-risk features/stigmata: ; Summarize the condition of the pancreatic cyst, including the size, the position, establishment of main pancreatic duct (MPD) communication, and high-risk features/stigmata of the cyst. '\n",
        "        f'If the findings have multiple dimensions for one cyst, use its longest axis diameter. For example, if the cyst has the dimensions of 1.1 x 1.5 x 1.4 cm or 1.4 x 1.5 cm, only response 1.5 cm in summarization. '\n",
        "        f'Only consider the largest cyst for recommendation. '\n",
        "        f'3. Start with **Follow-up Recommendation:** ; Generate the most relevant follow-up recommendation based on the cyst condition and the patient age {age}. Only mention follow-up method (and frequency) to keep the recommendation brief. '\n",
        "    )\n",
        "    return prompt"
      ]
    },
    {
      "cell_type": "code",
      "execution_count": 7,
      "metadata": {},
      "outputs": [
        {
          "name": "stdout",
          "output_type": "stream",
          "text": [
            "additional age + high risk + brief2\n"
          ]
        }
      ],
      "source": [
        "# Option 2 Helper Code + age + highrisk by imaging + concrete\n",
        "print(\"additional age + high risk + brief2\")\n",
        "\n",
        "def generate_prompt_RAG(row):\n",
        "    # Extract the age and findings from the row\n",
        "    age, finding = int(row[\"ages\"]), row[\"Findings\"]\n",
        "    query = f'Given the patient age {age} with the findings from the radiology report at the presentation of incidentalomas: {finding}. Generate the most important follow-up recommendation for the largest incidental pancreatic cyst.'\n",
        "    context = query_rag(query)\n",
        "\n",
        "    # Generate the main prompt for pancreatic cyst follow-up recommendation\n",
        "    prompt = (\n",
        "        f'Given the patient age {age} with the findings from the radiology report at the presentation of incidentalomas: {finding}. '\n",
        "        f'Generate the most important follow-up recommendation for pancreatic cysts based on the context: {context} from the guideline paper. '\n",
        "        f'Here is some guidance for response: 1. Start with **Existence of Pancreatic Cyst:** ; Identify whether a pancreatic cyst exists/is visualized. If not, only respond: No pancreatic cyst is visualized. '\n",
        "        f'2. Start with **Condition of the Largest Pancreatic Cyst:** - Size: - Position: - MPD Communication: -  High-risk features/stigmata: ; Summarize the condition of the pancreatic cyst, including the size, the position, establishment of main pancreatic duct (MPD) communication, and high-risk features/stigmata of the cyst. '\n",
        "        f'If the findings have multiple dimensions for one cyst, use its longest axis diameter. For example, if the cyst has the dimensions of 1.1 x 1.5 x 1.4 cm or 1.4 x 1.5 cm, only response 1.5 cm in summarization. '\n",
        "        f'Only consider the largest cyst for recommendation. '\n",
        "        f'3. Start with **Follow-up Recommendation:** ; Generate the most relevant follow-up recommendation based on the cyst condition and the patient age {age}. Only mention follow-up method (and frequency) to keep the recommendation brief. '\n",
        "    )\n",
        "    return prompt"
      ]
    },
    {
      "cell_type": "code",
      "execution_count": 22,
      "metadata": {},
      "outputs": [
        {
          "name": "stdout",
          "output_type": "stream",
          "text": [
            "additional age + high risk + brief2\n"
          ]
        }
      ],
      "source": [
        "# Option 3 Helper Code + age + highrisk by imaging + concrete\n",
        "print(\"additional age + high risk + brief2\")\n",
        "\n",
        "def generate_prompt_flowchart(row, flowchart_data):\n",
        "    # Extract the age and findings from the row\n",
        "    age, finding = int(row[\"ages\"]), row[\"Findings\"]\n",
        "\n",
        "    # Generate the main prompt for pancreatic cyst follow-up recommendation\n",
        "    prompt = (\n",
        "        f'Given the patient age {age} with the findings from the radiology report at the presentation of incidentalomas: {finding}. '\n",
        "        f'Generate the most important follow-up recommendation for pancreatic cysts based on JSON flowchart data: {flowchart_data} from the guideline paper. '\n",
        "        f'Here is some guidance for response: 1. Start with **Existence of Pancreatic Cyst:** ; Identify whether a pancreatic cyst exists/is visualized. If not, only respond: No pancreatic cyst is visualized. '\n",
        "        f'2. Start with **Condition of the Largest Pancreatic Cyst:** - Size: - Position: - MPD Communication: -  High-risk features/stigmata: ; Summarize the condition of the pancreatic cyst, including the size, the position, establishment of main pancreatic duct (MPD) communication, and high-risk features/stigmata of the cyst. '\n",
        "        f'If the findings have multiple dimensions for one cyst, use its longest axis diameter. For example, if the cyst has the dimensions of 1.1 x 1.5 x 1.4 cm or 1.4 x 1.5 cm, only response 1.5 cm in summarization. '\n",
        "        f'Only consider the largest cyst for recommendation. '\n",
        "        f'3. Start with **Follow-up Recommendation:** ; Generate the most relevant follow-up recommendation based on the cyst condition and the patient age {age}. Only mention the follow-up method (and frequency) to keep the recommendation brief. '\n",
        "        f'4. Start with **Reference:** ; Include the reference location. Only respond e.g. Fig 1, Fig 2A, etc.'\n",
        "    )\n",
        "    return prompt"
      ]
    },
    {
      "cell_type": "code",
      "execution_count": 35,
      "metadata": {},
      "outputs": [
        {
          "name": "stdout",
          "output_type": "stream",
          "text": [
            "additional age + high risk + brief2\n"
          ]
        }
      ],
      "source": [
        "# Option 4 flowchartRAG Helper Code + age + highrisk by imaging + concrete\n",
        "print(\"additional age + high risk + brief2\")\n",
        "\n",
        "def generate_prompt_flowchartRAG(row, flowchart_data):\n",
        "    # Extract the age and findings from the row\n",
        "    age, finding = int(row[\"ages\"]), row[\"Findings\"]\n",
        "    query = f'Given the patient age {age} at the presentation of incidentalomas with the findings from radiology report: {finding}. Generate the most important follow-up recommendation for the largest incidental pancreatic cyst.'\n",
        "    context = query_flowchart_rag(query)\n",
        "\n",
        "    # Generate the main prompt for pancreatic cyst follow-up recommendation\n",
        "    prompt = (\n",
        "        f'Given the patient age {age} with the findings from the radiology report at the presentation of incidentalomas: {finding}. '\n",
        "        f'Generate the most important follow-up recommendation for pancreatic cysts based on the relevant JSON flowchart data: {context} from the guideline paper. '\n",
        "        f'Here is some guidance for response: 1. Start with **Existence of Pancreatic Cyst:** ; Identify whether a pancreatic cyst exists/is visualized. If not, only respond: No pancreatic cyst is visualized. '\n",
        "        f'2. Start with **Condition of the Largest Pancreatic Cyst:** - Size: - Position: - MPD Communication: -  High-risk features/stigmata: ; Summarize the condition of the pancreatic cyst, including the size, the position, establishment of main pancreatic duct (MPD) communication, and high-risk features/stigmata of the cyst. '\n",
        "        f'If the findings have multiple dimensions for one cyst, use its longest axis diameter. For example, if the cyst has the dimensions of 1.1 x 1.5 x 1.4 cm or 1.4 x 1.5 cm, only response 1.5 cm in summarization. '\n",
        "        f'Only consider the largest cyst for recommendation. '\n",
        "        f'3. Start with **Follow-up Recommendation:** ; Generate the most relevant follow-up recommendation based on the cyst condition and the patient age {age}. Only mention the follow-up method (and frequency) to keep the recommendation brief. '\n",
        "        f'4. Start with **Reference:** ; Include the reference location. Only respond e.g. Fig 1, Fig 2A, etc.'\n",
        "    )\n",
        "    return prompt"
      ]
    },
    {
      "cell_type": "code",
      "execution_count": 11,
      "metadata": {},
      "outputs": [],
      "source": [
        "def get_openai_response(prompt):\n",
        "  response = client.chat.completions.create(\n",
        "        model=MODEL,\n",
        "        messages=[\n",
        "            {\"role\": \"system\", \"content\": \"You are a helpful assistant.\"},\n",
        "            {\"role\": \"user\", \"content\": prompt}\n",
        "        ],\n",
        "        temperature=0.0,\n",
        "    )\n",
        "  return response.choices[0].message.content"
      ]
    },
    {
      "cell_type": "markdown",
      "metadata": {},
      "source": [
        "## Batch"
      ]
    },
    {
      "cell_type": "code",
      "execution_count": 13,
      "metadata": {
        "id": "i_JjaUBVrQeG"
      },
      "outputs": [
        {
          "name": "stdout",
          "output_type": "stream",
          "text": [
            "option3\n"
          ]
        }
      ],
      "source": [
        "if option_1:\n",
        "    df['option_1_raw_openai'] = \"\"\n",
        "    print(\"option1\")\n",
        "if option_2:\n",
        "    df['option_2_pdf_rag'] = \"\"\n",
        "    print(\"option2\")\n",
        "if option_3:\n",
        "    df['option_3_flowchart'] = \"\"\n",
        "    print(\"option3\")\n",
        "if option_4:\n",
        "    df['option_4_flowchartRAG'] = \"\"\n",
        "    print(\"option4\")"
      ]
    },
    {
      "cell_type": "code",
      "execution_count": 21,
      "metadata": {
        "colab": {
          "base_uri": "https://localhost:8080/"
        },
        "id": "-YdwqANUr54S",
        "outputId": "0cc9be61-3e7f-43b7-fce5-336435e672ec"
      },
      "outputs": [
        {
          "name": "stdout",
          "output_type": "stream",
          "text": [
            "--> process:  10\n"
          ]
        }
      ],
      "source": [
        "debug_test = False\n",
        "flowchart_data = load_json(\"utils/data2-3-table_included.json\")\n",
        "count = 0\n",
        "\n",
        "for i, row in df.iterrows():\n",
        "    count += 1\n",
        "    if count % 10 == 0: print(\"--> process: \", count)\n",
        "\n",
        "    if option_1:\n",
        "        prompt = generate_prompt_simple(row)\n",
        "        result = get_openai_response(prompt)\n",
        "        df.at[i, 'option_1_raw_openai'] = result\n",
        "        if debug_test:\n",
        "            print(\"---> Option 1:\")\n",
        "            print(result)\n",
        "    \n",
        "    if option_2:\n",
        "        prompt = generate_prompt_RAG(row)\n",
        "        result = get_openai_response(prompt)\n",
        "        df.at[i, 'option_2_pdf_rag'] = result\n",
        "        if debug_test:\n",
        "            print(\"---> Option 2:\")\n",
        "            print(result)\n",
        "    \n",
        "    if option_3:\n",
        "        prompt = generate_prompt_flowchart(row, flowchart_data)\n",
        "        result = get_openai_response(prompt)\n",
        "        df.at[i, 'option_3_flowchart'] = result\n",
        "        if debug_test:\n",
        "            print(\"---> Option 3:\")\n",
        "            print(result)\n",
        "\n",
        "    if option_4:\n",
        "        prompt = generate_prompt_flowchartRAG(row, flowchart_data)\n",
        "        result = get_openai_response(prompt)\n",
        "        df.at[i, 'option_4_flowchartRAG'] = result\n",
        "        if debug_test:\n",
        "            print(\"---> Option 4:\")\n",
        "            print(result)\n",
        "\n",
        "    if option_1 and option_2 and option_4:\n",
        "        time.sleep(1)\n",
        "    if option_1 and option_2 and option_3 and option_4:\n",
        "        time.sleep(1)\n",
        "\n",
        "df.to_csv('results.csv', index=False)"
      ]
    }
  ],
  "metadata": {
    "colab": {
      "provenance": []
    },
    "kernelspec": {
      "display_name": "base",
      "language": "python",
      "name": "python3"
    },
    "language_info": {
      "codemirror_mode": {
        "name": "ipython",
        "version": 3
      },
      "file_extension": ".py",
      "mimetype": "text/x-python",
      "name": "python",
      "nbconvert_exporter": "python",
      "pygments_lexer": "ipython3",
      "version": "3.10.9"
    }
  },
  "nbformat": 4,
  "nbformat_minor": 0
}
